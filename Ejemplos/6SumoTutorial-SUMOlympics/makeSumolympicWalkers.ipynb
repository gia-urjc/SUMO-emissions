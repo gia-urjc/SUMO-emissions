{
 "cells": [
  {
   "cell_type": "code",
   "execution_count": null,
   "metadata": {},
   "outputs": [],
   "source": [
    "#!/usr/bin/python\n",
    "#parameters\n",
    "outfile = \"sumolympicWalks.rou.xml\"\n",
    "startEdge = \"beg\"\n",
    "endEdge = \"end\"\n",
    "departTime = 0. #time of departure\n",
    "departPos = -30. #position of departure\n",
    "arrivalPos = 100. #position of arrival\n",
    "numberTrips = 100 #number of persons walking\n",
    "#generate XML\n",
    "xml_string = \"<routes>\\n\"  \n",
    "for i in range(numberTrips):\n",
    "    xml_string += '    <person depart=\"%f\" id=\"p%d\" departPos=\"%f\" >\\n' % (departTime, i, departPos)\n",
    "    xml_string += '        <walk edges=\"%s %s\" arrivalPos=\"%f\"/>\\n' % (startEdge, endEdge, arrivalPos)\n",
    "    xml_string += '    </person>\\n'\n",
    "xml_string += \"</routes>\\n\"\n",
    "with open(outfile, \"w\") as f:\n",
    "    f.write(xml_string)"
   ]
  }
 ],
 "metadata": {
  "kernelspec": {
   "display_name": "Python 3",
   "language": "python",
   "name": "python3"
  },
  "language_info": {
   "codemirror_mode": {
    "name": "ipython",
    "version": 3
   },
   "file_extension": ".py",
   "mimetype": "text/x-python",
   "name": "python",
   "nbconvert_exporter": "python",
   "pygments_lexer": "ipython3",
   "version": "3.8.3"
  }
 },
 "nbformat": 4,
 "nbformat_minor": 4
}
